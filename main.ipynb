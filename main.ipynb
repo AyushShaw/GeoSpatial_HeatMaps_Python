{
 "cells": [
  {
   "cell_type": "markdown",
   "metadata": {},
   "source": [
    "# Creating Heatmaps out of GeoSpatial Data\n",
    "\n",
    "Heatmap is frequently used to visualize the probability density for the occurance of an event. There are some Python libraries or GIS software/tool that can be used to create a heatmap like QGIS, ArcGIS, and others. Here we shall be using *folium* a python library builds on the data wrangling strengths of the Python ecosystem and the mapping strengths of the leaflet.js library. \n",
    "\n",
    "\n",
    "Then we will write our own code to create a heatmap using the \"Quartic Kernel Density Estimation Function\" in Python 3 from scratch using Python common libraries like Numpy, Pandas, scipy, and a plotting framework."
   ]
  },
  {
   "cell_type": "markdown",
   "metadata": {},
   "source": [
    "## 1.0 Using Folium\n",
    "\n",
    "Folium makes it easy to visualize data that’s been manipulated in Python on an interactive leaflet map. It enables both the binding of data to a map for choropleth visualizations as well as passing rich vector/raster/HTML visualizations as markers on the map.\n",
    "\n",
    "The library has a number of built-in tilesets from OpenStreetMap, Mapbox, and Stamen, and supports custom tilesets with Mapbox or Cloudmade API keys. folium supports both Image, Video, GeoJSON and TopoJSON overlays.\n",
    "\n",
    "REF: https://python-visualization.github.io/folium/#"
   ]
  },
  {
   "cell_type": "markdown",
   "metadata": {},
   "source": [
    "### 1.1 Importing what's needed"
   ]
  },
  {
   "cell_type": "code",
   "execution_count": 9,
   "metadata": {},
   "outputs": [],
   "source": [
    "import folium\n",
    "from folium import plugins\n",
    "import pandas as pd\n",
    "import matplotlib.pyplot as plt\n",
    "import seaborn as sns\n",
    "from folium.plugins import HeatMap\n",
    "import os\n",
    "\n",
    "%matplotlib inline"
   ]
  },
  {
   "cell_type": "markdown",
   "metadata": {},
   "source": [
    "### 1.2 Loading up the Data\n",
    "\n",
    "I will be using the geospatial dataset which has been provided with the assignment heatmap_buy_20"
   ]
  },
  {
   "cell_type": "code",
   "execution_count": 17,
   "metadata": {},
   "outputs": [
    {
     "data": {
      "text/html": [
       "<div>\n",
       "<style scoped>\n",
       "    .dataframe tbody tr th:only-of-type {\n",
       "        vertical-align: middle;\n",
       "    }\n",
       "\n",
       "    .dataframe tbody tr th {\n",
       "        vertical-align: top;\n",
       "    }\n",
       "\n",
       "    .dataframe thead th {\n",
       "        text-align: right;\n",
       "    }\n",
       "</style>\n",
       "<table border=\"1\" class=\"dataframe\">\n",
       "  <thead>\n",
       "    <tr style=\"text-align: right;\">\n",
       "      <th></th>\n",
       "      <th>longitude</th>\n",
       "      <th>latitude</th>\n",
       "      <th>weight</th>\n",
       "    </tr>\n",
       "  </thead>\n",
       "  <tbody>\n",
       "    <tr>\n",
       "      <th>0</th>\n",
       "      <td>88.435715</td>\n",
       "      <td>22.595484</td>\n",
       "      <td>4000.0000</td>\n",
       "    </tr>\n",
       "    <tr>\n",
       "      <th>1</th>\n",
       "      <td>88.327835</td>\n",
       "      <td>22.488018</td>\n",
       "      <td>4930.3370</td>\n",
       "    </tr>\n",
       "    <tr>\n",
       "      <th>2</th>\n",
       "      <td>88.420050</td>\n",
       "      <td>22.628452</td>\n",
       "      <td>5992.0635</td>\n",
       "    </tr>\n",
       "    <tr>\n",
       "      <th>3</th>\n",
       "      <td>88.339935</td>\n",
       "      <td>22.495138</td>\n",
       "      <td>8171.4287</td>\n",
       "    </tr>\n",
       "    <tr>\n",
       "      <th>4</th>\n",
       "      <td>88.340150</td>\n",
       "      <td>22.501444</td>\n",
       "      <td>7649.3580</td>\n",
       "    </tr>\n",
       "  </tbody>\n",
       "</table>\n",
       "</div>"
      ],
      "text/plain": [
       "   longitude   latitude     weight\n",
       "0  88.435715  22.595484  4000.0000\n",
       "1  88.327835  22.488018  4930.3370\n",
       "2  88.420050  22.628452  5992.0635\n",
       "3  88.339935  22.495138  8171.4287\n",
       "4  88.340150  22.501444  7649.3580"
      ]
     },
     "execution_count": 17,
     "metadata": {},
     "output_type": "execute_result"
    }
   ],
   "source": [
    "buy20=pd.read_csv(\"heatmap_buy_20.csv\")\n",
    "\n",
    "buy20.head()"
   ]
  },
  {
   "cell_type": "code",
   "execution_count": 18,
   "metadata": {},
   "outputs": [
    {
     "data": {
      "text/html": [
       "<div style=\"width:100%;\"><div style=\"position:relative;width:100%;height:0;padding-bottom:60%;\"><iframe src=\"data:text/html;charset=utf-8;base64,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\" style=\"position:absolute;width:100%;height:100%;left:0;top:0;border:none !important;\" allowfullscreen webkitallowfullscreen mozallowfullscreen></iframe></div></div>"
      ],
      "text/plain": [
       "<folium.folium.Map at 0x250c36cff98>"
      ]
     },
     "execution_count": 18,
     "metadata": {},
     "output_type": "execute_result"
    }
   ],
   "source": [
    "# Generates a base map at lattitude 22.69 and longitude 88.39\n",
    "map = folium.Map([22.69, 88.39], zoom_start=11)\n",
    "\n",
    "\n",
    "# Generating the heatmap Overlay\n",
    "hmap = HeatMap( list(zip(buy20.latitude.values, buy20.longitude.values, buy20.weight.values)),\n",
    "                   min_opacity=0.2,\n",
    "                   radius=50, blur=69, \n",
    "                   max_zoom=1, \n",
    "                 )\n",
    "\n",
    "map.add_child(hmap)"
   ]
  },
  {
   "cell_type": "code",
   "execution_count": 19,
   "metadata": {},
   "outputs": [],
   "source": [
    "# Saving up the Generated map as an interactive HTML file\n",
    "map.save('heatmap.html')"
   ]
  },
  {
   "cell_type": "markdown",
   "metadata": {},
   "source": [
    "## 2.0 Heatmap From Scratch\n",
    "\n",
    "As I mentioned earlier. The heatmap was create will used Kernel Density Estimation algorithm. Now let's explore how this algorithm is working, so we can tune related parameters to get a more insightful heatmap cause we understand how the result comes up. \n",
    "Now let's get Started by importing numpy, scipy and math.."
   ]
  },
  {
   "cell_type": "code",
   "execution_count": 21,
   "metadata": {},
   "outputs": [],
   "source": [
    "import numpy as np\n",
    "import math\n",
    "import scipy.ndimage as sp"
   ]
  },
  {
   "cell_type": "code",
   "execution_count": 254,
   "metadata": {},
   "outputs": [],
   "source": [
    "# Now let's generated the heatmap\n",
    "\n",
    "lattitude = list(buy20.latitude*10)\n",
    "longitude = list(buy20.longitude*10)\n",
    "weights = list(buy20.weight)"
   ]
  },
  {
   "cell_type": "markdown",
   "metadata": {},
   "source": [
    "In creating heatmap using KDE we need to specify the bandwidth or radius of the kernel shape and output grid size.\n"
   ]
  },
  {
   "cell_type": "code",
   "execution_count": 245,
   "metadata": {},
   "outputs": [],
   "source": [
    "# Let's Define our Grid size and Kernel radius\n",
    "grid_size=0.1\n",
    "radius=0.9"
   ]
  },
  {
   "cell_type": "markdown",
   "metadata": {},
   "source": [
    "To construct grid we use mesh grid. Therefore we need to find x,y minimum and maximum to generate a sequence number of x and y. These sequence numbers then will be used to construct mesh grid. To include all the dataset coverage with a little bit more space, I subtract x,y minimum with radius and add it up for x,y maximum."
   ]
  },
  {
   "cell_type": "code",
   "execution_count": 246,
   "metadata": {},
   "outputs": [],
   "source": [
    "x_min=min(longitude)\n",
    "x_max=max(longitude)\n",
    "y_min=min(lattitude)\n",
    "y_max=max(lattitude)\n",
    "\n",
    "# Constructing the grid\n",
    "x_grid=np.arange(x_min-radius,x_max+radius,grid_size)\n",
    "y_grid=np.arange(y_min-radius,y_max+radius,grid_size)\n",
    "x_mesh,y_mesh=np.meshgrid(x_grid,y_grid)"
   ]
  },
  {
   "cell_type": "markdown",
   "metadata": {},
   "source": [
    "After constructing mesh grid. Next we calculate the center point for each grid. This can be done with adding x mesh and y mesh coordinate with half of grid size. The center point will be used later to calculate the distance of each grid to dataset points."
   ]
  },
  {
   "cell_type": "code",
   "execution_count": 247,
   "metadata": {},
   "outputs": [],
   "source": [
    "x_center=x_mesh+(grid_size/2)\n",
    "y_center=y_mesh+(grid_size/2)"
   ]
  },
  {
   "cell_type": "markdown",
   "metadata": {},
   "source": [
    "To calculate a point density or intensity we use a function called kde_quartic. We are using Quartic kernel shape, that's why it has \"quartic\" term in the function name. This function has two arguments: point distance(d) and kernel radius (radius)."
   ]
  },
  {
   "cell_type": "code",
   "execution_count": 248,
   "metadata": {},
   "outputs": [],
   "source": [
    "# Quartic Kernel Shape\n",
    "def kde_quartic(d,h):\n",
    "    dn=d/h\n",
    "    P=(15/16)*(1-dn**2)**2\n",
    "    return P\n",
    "\n",
    "# Gaussian Kernel Shape\n",
    "def kde_gaussian(d,h):\n",
    "    dn =d/h\n",
    "    P=(1/np.sqrt(2*np.pi))*(np.exp(-(dn**2)/2))\n",
    "    return P"
   ]
  },
  {
   "cell_type": "code",
   "execution_count": 280,
   "metadata": {},
   "outputs": [
    {
     "data": {
      "image/png": "[encoded data removed]",
      "text/plain": [
       "<Figure size 432x288 with 2 Axes>"
      ]
     },
     "metadata": {
      "needs_background": "light"
     },
     "output_type": "display_data"
    },
    {
     "data": {
      "text/plain": [
       "<Figure size 432x288 with 0 Axes>"
      ]
     },
     "metadata": {},
     "output_type": "display_data"
    }
   ],
   "source": [
    "# Quartic Kernel \n",
    "\n",
    "q_intensity_list=[]\n",
    "for j in range(len(x_center)):\n",
    "    q_intensity_row=[]\n",
    "    for k in range(len(x_center[0])):\n",
    "        q_kde_value_list=[]\n",
    "        q_weight_value_list =[]\n",
    "        for i in range(len(longitude)):\n",
    "            #CALCULATE DISTANCE\n",
    "            d=math.sqrt((x_center[j][k]-longitude[i])**2+(y_center[j][k]-lattitude[i])**2) \n",
    "            if d<=radius:\n",
    "                p=kde_quartic(d,radius)\n",
    "            else:\n",
    "                p=0\n",
    "            q_kde_value_list.append(p)\n",
    "            \n",
    "            if x_center[j][k] == longitude[i] and y_center[j][k] == lattitude[i]:\n",
    "                w=weights[i]\n",
    "            else:\n",
    "                w=0\n",
    "            q_weight_value_list.append(w)\n",
    "            \n",
    "        #SUM ALL INTENSITY VALUE\n",
    "        q_p_total=sum(q_kde_value_list) + sum(q_weight_value_list)\n",
    "        q_intensity_row.append(q_p_total)\n",
    "    q_intensity_list.append(q_intensity_row)\n",
    "\n",
    "# Drawing heatmap\n",
    "q_plt = plt\n",
    "q_intensity=np.array(q_intensity_list)\n",
    "q_plt.plot(longitude,lattitude,'ro')\n",
    "q_plt.pcolormesh(x_mesh,y_mesh,q_intensity)\n",
    "q_plt.axis('scaled')\n",
    "q_plt.colorbar()\n",
    "q_plt.title(\"Quartic\")\n",
    "q_plt.show()\n",
    "q_plt.savefig('Quartic_heatmap.png')"
   ]
  },
  {
   "cell_type": "code",
   "execution_count": 278,
   "metadata": {},
   "outputs": [
    {
     "data": {
      "image/png": "[encoded data removed]",
      "text/plain": [
       "<Figure size 432x288 with 2 Axes>"
      ]
     },
     "metadata": {
      "needs_background": "light"
     },
     "output_type": "display_data"
    },
    {
     "data": {
      "text/plain": [
       "<Figure size 432x288 with 0 Axes>"
      ]
     },
     "metadata": {},
     "output_type": "display_data"
    }
   ],
   "source": [
    "# gaussian Kernel \n",
    "\n",
    "g_intensity_list=[]\n",
    "for j in range(len(x_center)):\n",
    "    g_intensity_row=[]\n",
    "    for k in range(len(x_center[0])):\n",
    "        g_kde_value_list=[]\n",
    "        g_weight_value_list =[]\n",
    "        for i in range(len(longitude)):\n",
    "            #CALCULATE DISTANCE\n",
    "            d=math.sqrt((x_center[j][k]-longitude[i])**2+(y_center[j][k]-lattitude[i])**2) \n",
    "            if d<=radius:\n",
    "                p=kde_gaussian(d,radius)\n",
    "            else:\n",
    "                p=0\n",
    "            g_kde_value_list.append(p)\n",
    "            if x_mesh[j][k] in longitude and y_mesh[j][k] in lattitude:\n",
    "                w=weights[i]\n",
    "            else:\n",
    "                w=0\n",
    "            g_weight_value_list.append(w)\n",
    "        \n",
    "            \n",
    "        \n",
    "        #SUM ALL INTENSITY VALUE\n",
    "        g_p_total= sum(g_kde_value_list) + sum(g_weight_value_list)\n",
    "        g_intensity_row.append(g_p_total)\n",
    "    g_intensity_list.append(g_intensity_row)\n",
    "\n",
    "# Drawing heatmap\n",
    "g_plt = plt\n",
    "g_intensity=np.array(g_intensity_list)\n",
    "g_plt.plot(longitude,lattitude,'ro')\n",
    "g_plt.pcolormesh(x_mesh,y_mesh,g_intensity)\n",
    "g_plt.axis('scaled')\n",
    "g_plt.colorbar()\n",
    "g_plt.title(\"Gaussian\")\n",
    "g_plt.show()\n",
    "g_plt.savefig('gaussian_heatmap.png')"
   ]
  },
  {
   "cell_type": "markdown",
   "metadata": {},
   "source": [
    "## 3.0 Refferances and Attributions\n",
    "The GeoDose Website\n",
    "https://www.geodose.com/2018/01/heatmap-with-kernel-density-estimation-example.html\n",
    "\n",
    "Wikis\n",
    "https://en.wikipedia.org/wiki/Kernel_density_estimation\n",
    "https://brilliant.org/wiki/continuous-random-variables-probability-density/\n",
    "\n"
   ]
  },
  {
   "cell_type": "code",
   "execution_count": null,
   "metadata": {},
   "outputs": [],
   "source": []
  }
 ],
 "metadata": {
  "kernelspec": {
   "display_name": "Python 3",
   "language": "python",
   "name": "python3"
  },
  "language_info": {
   "codemirror_mode": {
    "name": "ipython",
    "version": 3
   },
   "file_extension": ".py",
   "mimetype": "text/x-python",
   "name": "python",
   "nbconvert_exporter": "python",
   "pygments_lexer": "ipython3",
   "version": "3.7.3"
  }
 },
 "nbformat": 4,
 "nbformat_minor": 2
}
